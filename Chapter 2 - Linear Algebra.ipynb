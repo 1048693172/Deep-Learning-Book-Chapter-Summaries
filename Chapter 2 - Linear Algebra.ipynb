{
 "cells": [
  {
   "cell_type": "markdown",
   "metadata": {},
   "source": [
    "# The Deep Learning Book (Simplified)\n",
    "## Part I - Applied Math and Machine Learning basics\n",
    "*This is a series of blog posts on the [Deep Learning book](http://deeplearningbook.org) where I am attempting to provide a summary of each chapter highlighting the concepts that I found to be most important so that other people can use it as a starting point for reading the chapters, while including the code for reproducing some of the results. Please refer [this](http://www.deeplearningbook.org/contents/notation.html) for more clarity on notation*\n",
    "\n",
    "## Chapter 2: Linear Algebra\n",
    "A good understanding of linear algebra is essential for understanding and working with many machine learning algorithms, especially deep learning algorithms. The chapter aims to teach you enough for understanding deep learning and hence, omits many key topics in Linear Algebra that are not relevant.\n",
    "\n",
    "The sections present in this chapter are listed below. Click on any of the sections to navigate to that section:\n",
    "\n",
    " <a style=\"text-decoration:none; font-size: 18px;\" href='#1.-Scalars,-Vectors,-Matrices-and-Tensors'><span style=\"color:black; text-decoration:none\">**1. Scalars, Vectors, Matrices and Tensors**</span></a> <br>\n",
    " <a style=\"text-decoration:none; font-size: 18px;\" href='#2.-Multiplying-Matrices-and-Vectors'><span style=\"color:black; text-decoration:none\">**2. Multiplying Matrices and Vectors**</span></a> <br>\n",
    " <a style=\"text-decoration:none; font-size: 18px;\" href='#3.-Identity-and-Inverse-Matrices'><span style=\"color:black; text-decoration:none\">**3. Identity and Inverse Matrices**</span></a> <br>\n",
    " <a style=\"text-decoration:none; font-size: 18px;\" href='#4.-Linear-Dependence-and-Span'><span style=\"color:black; text-decoration:none\">**4. Linear Dependence and Span**</span></a> <br>\n",
    " <a style=\"text-decoration:none; font-size: 18px;\" href='#5.-Norms'><span style=\"color:black; text-decoration:none\">**5. Norms**</span></a> <br>\n",
    " <a style=\"text-decoration:none; font-size: 18px;\" href='#6.-Special-Kinds-of-Matrices-and-Vectors'><span style=\"color:black; text-decoration:none\">**6. Special Kinds of Matrices and Vectors**</span></a> <br>\n",
    " <a style=\"text-decoration:none; font-size: 18px;\" href='#7.-Eigendecomposition'><span style=\"color:black; text-decoration:none\">**7. Eigendecomposition**</span></a> <br>\n",
    " <a style=\"text-decoration:none; font-size: 18px;\" href='#8.-Singular-Value-Decomposition-(SVD)'><span style=\"color:black; text-decoration:none\">**8. Singular Value Decomposition (SVD)**</span></a> <br>\n",
    " <a style=\"text-decoration:none; font-size: 18px;\" href='#9.-The-Moore-Penrose-Pseudoinverse'><span style=\"color:black; text-decoration:none\">**9. The Moore Penrose Pseudoinverse**</span></a> <br>\n",
    " <a style=\"text-decoration:none; font-size: 18px;\" href='#10.-The-Trace-Operator'><span style=\"color:black; text-decoration:none\">**10. The Trace Operator**</span></a> <br>\n",
    " <a style=\"text-decoration:none; font-size: 18px;\" href='#11.-The-Determinant'><span style=\"color:black; text-decoration:none\">**11. The Determinant**</span></a>"
   ]
  },
  {
   "cell_type": "markdown",
   "metadata": {},
   "source": [
    "### 1. Scalars, Vectors, Matrices and Tensors\n",
    "\n",
    "\n",
    "The study of linear algebra involves several types of mathematical objects:\n",
    "\n",
    "\n",
    "**Scalars**: A scalar is just a single number which may take up different types of values, e.g. real-valued (slope of a line), natural number (number of units), etc.\n",
    "\n",
    "\n",
    "**Vectors**: A vector is an array of numbers of the same type (e.g. $x$ ∈ ℝ), arranged in order and indexed as $x_1, x_2$, etc. They are expressed as:\n",
    "\n",
    "\n",
    "$$x= \\begin{bmatrix}x_1 \\\\ x_2 \\\\ . \\\\ . \\\\ . \\\\ x_n\\end{bmatrix}$$\n",
    "\n",
    "**Matrices**: A matrix is a 2-D array of elements, each element being indexed by two numbers. A real-valued matrix **A** of height *m* and width *y* is represented as $ A ∈ ℝ ^ {mxn} $. The element in the $i^{th}$ row and $j^{th}$ column is indexed as $A_{i, j}$. $f(A)_{i, j}$ represents the element $(i, j)$ of the matrix computed by applying the function $f$ to $A$.\n",
    "\n",
    "\n",
    "**Tensors**: An array of numbers arranged in a regular grid with a variable number of axes is known as a tensor. The element at coordinates $(i, j, k)$ of a tensor $A$ is represented as $A_{i, j, k}$.\n",
    "\n",
    "An important operation on any matrix $A$ is the **transpose** (denoted by $A^T$) which is its mirror image across the [main diagonal](https://www.wikiwand.com/en/Main_diagonal). It can be better understood through this animation:\n",
    "![transpose gif](https://upload.wikimedia.org/wikipedia/commons/e/e4/Matrix_transpose.gif?1509056334524)\n",
    "\n",
    "A column vector of n-dimension can be thought of as a matrix of shape $NX1$. Thus, the transpose of a row-vector gives a column vector: $x = [x_1 \\hspace{.1cm} x_2 ... \\hspace{.1cm} x_n]^T$. We can add matrices of the same size ($C_{i, j} = A_{i,j} + B_{i,j}$) and add or multiply a matrix by a scalar ($D = a.B + c$). We can even add a vector to a matrix: $C = A + b$ where $C_{i, j} = A_{i, j} + b_{j}$, i.e. the vector $b$ is added to each row of $A$, an operation known as [broadcasting](http://deeplearning.net/software/theano/tutorial/broadcasting.html). The diagram below provides a visual explanation for broadcasting:  <br>\n",
    "![broadcasting](http://deeplearning.net/software/theano/_images/bcast.png)"
   ]
  },
  {
   "cell_type": "markdown",
   "metadata": {},
   "source": [
    "### 2. Multiplying Matrices and Vectors\n",
    "Matrix multiplication is one of the important operations involving operations. For a matrix multiplication between two matrices $A_{mn}$ and $B_{kp}$ to exist, we must have $n == k$. The resulting matrix $C (= AB)$ has the shape $m$ x $p$. <br>\n",
    "**Element-wise product** is given by $A ∘ B$ and has the same shape as $A$ (and $B$). <br>\n",
    "**Dot-product** between two vectors $x$ and $y$ of the same dimension is a scalar given by $x^Ty$.\n",
    "\n",
    "Useful properties:\n",
    "\n",
    "1. $A(B+C) = AB + AC$ (Distributive)\n",
    "2. $A(BC) = (AB)C$    (Associative)\n",
    "3. $AB ≠ BA$ (not commutative, in general)\n",
    "4. $(AB)^T = B^TA^T$\n",
    "5. $x^Ty = (x^Ty)^T = y^Tx$\n",
    "\n",
    "System of linear equations:\n",
    "\n",
    "$  Ax = B \\tag{1} $\n",
    "\n",
    "where $A ∈ ℝ^{mxn}$ & $b ∈ ℝ^{m}$ are known and $x ∈ ℝ^{n}$ is to be found. We have $m$ linear equations where the $i^{th}$ equation is given by: <br>\n",
    "\n",
    "$A_{i,1}x_1 + A_{i,2}x_2 + ... + A_{i,n}x_n = b_i$"
   ]
  },
  {
   "cell_type": "markdown",
   "metadata": {},
   "source": [
    "### 3. Identity and Inverse Matrices\n",
    "\n",
    "**Identity Matrix** is a matrix which doesn't change a vector when multiplied by the vector. The entries along its main diagonal is 1. All other entries are zero.\n",
    "![Identity Matrix](https://wikimedia.org/api/rest_v1/media/math/render/svg/e1a4218ab6975ad1809415aa168ab6371b91bafc)\n",
    "\n",
    "Now we define the inverse of a matrix, $A^{-1}$ as:\n",
    "\n",
    "$A^{-1}A = AA^{-1} = I_n$\n",
    "\n",
    "We use this to solve the previously defined system of equations:\n",
    "\n",
    "$$  Ax = b \\\\ \n",
    "A^{-1}Ax = A^{-1}b \\\\\n",
    "I_nx = A^{-1}b \\\\ \n",
    "x = A^{-1}b \\\\\n",
    "$$\n",
    "\n",
    "The next section covers the conditions required for $A^{-1}$ to exist."
   ]
  },
  {
   "cell_type": "markdown",
   "metadata": {},
   "source": [
    "### 4. Linear Dependence and Span\n",
    "For $A^{-1}$ to exist, equation (1) must have exactly one solution for every real value of $b$. The system can have infinitely many solutions for some values of b, but can't have a finite number of solutions greater than one.\n",
    "\n",
    "**Linear Combination**\n",
    "\n",
    "We know:\n",
    "\n",
    "$$ Ax = \\begin{bmatrix} {A_{1,1}x_1 + A_{1, 2}x_2 + ... A_{1, n}x_n} \\\\ {A_{2,1}x_1 + A_{2, 2}x_2 + ... A_{2, n}x_n } \\\\ . \\\\ . \\\\ . \\\\ {A_{m,1}x_1 + A_{m, 2}x_2 + ... A_{m, n}x_n} \\end{bmatrix} $$\n",
    "\n",
    "This can now be written as:\n",
    "$$ \\begin{bmatrix} {A_{1,1}x_1 + A_{1, 2}x_2 + ... A_{1, n}x_n} \\\\ {A_{2,1}x_1 + A_{2, 2}x_2 + ... A_{2, n}x_n } \\\\ . \\\\ . \\\\ . \\\\ {A_{m,1}x_1 + A_{m, 2}x_2 + ... A_{m, n}x_n} \\end{bmatrix} = x_1 \\begin{bmatrix} A_{1,1} \\\\ A_{2,1}\\\\ . \\\\ . \\\\ . \\\\ A_{m,1}  \\end{bmatrix} + x_2 \\begin{bmatrix} A_{1,2} \\\\ A_{2,2}\\\\ . \\\\ . \\\\ . \\\\ A_{m,2}  \\end{bmatrix} + ... x_n \\begin{bmatrix} A_{1,n} \\\\ A_{2,n}\\\\ . \\\\ . \\\\ . \\\\ A_{m,n}  \\end{bmatrix} = \\sum_{i=1}^{n} x_iA_{:, i}$$ <br> where $A_{:, i}$ is the $i^{th}$ column of $A$. Thus:\n",
    "$$ Ax = \\sum_{i=1}^{n} x_iA_{:, i}  $$\n",
    "\n",
    "This kind of operation is called a linear combination.\n",
    "\n",
    "**Span** of a set of vectors is the set of all points that can be obtained from the linear combination of the vectors. The span of the columns of $A$ is called the column space or range of $A$. For equation (1) to have a solution, $b$ must belong to this column space. Hence, in order for the system to have a solution for all $b ∈ ℝ^m$, the column space of $A$ must be all of $ℝ^m$. Thus, the number of columns (n) should be >= m. This is a necessary condition, but not a sufficient one as we might have redundant columns and that doesn't add to the column space. Here, the concept of **linear dependency** is introduced. A set of vectors are **linearly independent** if none of the vectors is a linear combination of the other vectors. Thus, for the column space of $A$ to be all of $ℝ^m$, it must contain atleast one *set* of m linearly independent columns. The system must have  *at most* one solution for each value of $b$, hence, $A$ must have at most m columns, or else there are multiple ways of parameterizing each solution. But we started this section stating that we need exactly one solution for $A^{-1}$ to exist. Hence, m = n, i.e., the matrix must be **square** and its columns are linearly independent for its inverse to exist. Such a matrix is said to be **singular**."
   ]
  },
  {
   "cell_type": "markdown",
   "metadata": {},
   "source": [
    "### 5. Norms\n",
    "\n",
    "The size of a vector is given by functions called norms. We can have different types of norms, more commonly used, is the $L^p$ norm given by:\n",
    "$$ ||\\mathbf{x}||_p = (\\sum_{i} |x_i|^p)^{\\frac{1}{p}} $$\n",
    "\n",
    "A norm function $f$ satisfies the following properties:\n",
    "\n",
    "- $f(x) = 0 ⇒ x = 0$\n",
    "- $f(x+y) ≤ f(x) + f(y)$ (The **triangle inequality**)\n",
    "- $∀\\alpha ∈ ℝ, \\hspace{.1cm} f(\\alpha x) = |\\alpha|f(x)$\n",
    "\n",
    "Different types of norms:\n",
    "\n",
    "- **Euclidean Norm**: This is the $L^2$ norm, which is heavily used in machine learning, and can be also calculated as $x^Tx$.\n",
    "- **L1 Norm**: It is used when the difference between the zero and non-zero elements is very important.\n",
    "- **Max Norm (also known as the $L^{\\infty}$ norm)**: Absolute value of the largest magnitude in the vector:\n",
    "$||x||_{\\infty} = \\max_\\limits{i}|x_i|$\n",
    "- **Frobenius Norm**: Used to measure the size of a matrix (similar to the $L^2$ norm):\n",
    "$||A||_F = \\sqrt{\\sum\\limits_{i,j} A_{i,j}^2} $"
   ]
  },
  {
   "cell_type": "markdown",
   "metadata": {},
   "source": [
    "### 6. Special Kinds of Matrices and Vectors\n",
    "\n",
    "- **Diagonal Matrices**: These matrices have non-zero entries only along the main diagonal, e.g. the identity matrix $I_n$. Some of the key features are: <br>\n",
    " - A square diagonal matrix can be represented as: $diag(v)$ where  the vector $v$ represents the elements along tha main diagonal.\n",
    " - Multiplying by a diagonal matrix is computationally efficient. $Dx$ can be calculated by simply scaling each $x_i$ by $v_i$.\n",
    " - A diagonal matrix need not be square.\n",
    " \n",
    "- **Symmetric Matrix**: $A = A^T$\n",
    "- **Unit vector**: A vector which has **unit norm**, i.e. $||x||_2 = 1$.\n",
    "- **Orthogonal vectors**: Two vectors $x$ and $y$ are orthogonal if $x^Ty = 0$, which means that if both of them have non-zero norm, these vectors are at a 90 degree angle to each other. Orthogonal vectors having unit norm are called **orthonormal vectors**.\n",
    "- **Orthonormal Matrix**: A matrix whose rows are mutually orthonormal (and columns too). Thus:\n",
    "$$ A^TA = AA^T = I ⇒ A^{-1} = A^T $$\n",
    "For orthonormal matrices, the inverse is cheap to compute."
   ]
  },
  {
   "cell_type": "markdown",
   "metadata": {},
   "source": [
    "### 7. Eigendecomposition\n",
    "Matrices can be understood better by breaking them into constituent parts (e.g. breaking a number like 12 into its prime factors: 12 = 2 x 2 x 3) which are universal and not obvious from their representation. One of the widely used matrix decomposition is called **eigendecomposition**, where we decompose a matrix into its **eigenvectors** and **eigenvalues**.\n",
    "\n",
    "An **eigenvector** $v$ of a matrix $A$, is a non-zero vector satisfying the following equation:\n",
    "\n",
    "$$ Av = \\lambda v $$\n",
    "\n",
    "The scalar $\\lambda$ is called the **eigenvalue** corresponding to the eigenvector. Any scaled version of an eigenvector is also an eigenvector with the same eigenvalue, hence we focus on only unit eigenvectors.\n",
    "\n",
    "The eigendecomposition of a matrix $A$, having $n$ linearly independent eigenvectors represented as a matrix $V = [v^{(1)}, ... , v^{(n)}]$ with the corresponding eigenvalues given by the vector $\\lambda = [\\lambda_1, ... , \\lambda_n]$ is given by:\n",
    "\n",
    "$$ A = Vdiag(\\lambda)V^{-1} $$\n",
    "\n",
    "For our  purpose, in the case of $A$ being real-valued, $V$ is an orthogonal matrix. $A$ can be thought of as scaling space by $\\lambda_i$ in the direction $v^{(i)}$. We generally sort the entries of $\\lambda$ in decreasing order. Two types of matrices are specially useful:\n",
    "\n",
    "- **Positive definite**: All eigenvalues are positive and $x^TAx = 0 ⇒ x = 0$.\n",
    "- **Positive semidefinite**: All eigenvalues are non-zero and $∀x, \\hspace{0.1cm} x^TAx ≥ 0$."
   ]
  },
  {
   "cell_type": "code",
   "execution_count": 14,
   "metadata": {},
   "outputs": [],
   "source": [
    "import numpy as np\n",
    "import matplotlib.pyplot as plt\n",
    "%matplotlib inline"
   ]
  },
  {
   "cell_type": "code",
   "execution_count": 30,
   "metadata": {},
   "outputs": [],
   "source": [
    "A = np.array([[1, 2], [4, 3]])"
   ]
  },
  {
   "cell_type": "code",
   "execution_count": 55,
   "metadata": {},
   "outputs": [],
   "source": [
    "w, v = np.linalg.eig(A)"
   ]
  },
  {
   "cell_type": "code",
   "execution_count": 56,
   "metadata": {},
   "outputs": [
    {
     "data": {
      "text/plain": [
       "array([[-0.70710678, -0.4472136 ],\n",
       "       [ 0.70710678, -0.89442719]])"
      ]
     },
     "execution_count": 56,
     "metadata": {},
     "output_type": "execute_result"
    }
   ],
   "source": [
    "v"
   ]
  },
  {
   "cell_type": "code",
   "execution_count": 58,
   "metadata": {},
   "outputs": [],
   "source": [
    "def normalize(u):\n",
    "    for i, x in enumerate(u):\n",
    "        norm = np.sqrt(sum([val**2 for val in x]))\n",
    "        for j, y in enumerate(x):\n",
    "            u[i][j] = y / norm"
   ]
  },
  {
   "cell_type": "code",
   "execution_count": 59,
   "metadata": {},
   "outputs": [],
   "source": [
    "normalize(v)"
   ]
  },
  {
   "cell_type": "code",
   "execution_count": 60,
   "metadata": {},
   "outputs": [
    {
     "data": {
      "text/plain": [
       "-0.10482848367219183"
      ]
     },
     "execution_count": 60,
     "metadata": {},
     "output_type": "execute_result"
    }
   ],
   "source": [
    "np.dot(v[0], v[1])"
   ]
  },
  {
   "cell_type": "code",
   "execution_count": 46,
   "metadata": {},
   "outputs": [],
   "source": [
    "x_values = np.linspace(-1, 1, 1000)\n",
    "y_values = np.array([np.sqrt(1 - (x**2)) for x in x_values])\n",
    "\n",
    "x_values = np.concatenate([x_values, x_values])\n",
    "y_values = np.concatenate([y_values, -y_values])"
   ]
  },
  {
   "cell_type": "code",
   "execution_count": 47,
   "metadata": {},
   "outputs": [],
   "source": [
    "u = np.array([[x, y] for x, y in zip(x_values, y_values)])"
   ]
  },
  {
   "cell_type": "code",
   "execution_count": 48,
   "metadata": {},
   "outputs": [],
   "source": [
    "trans = np.dot(A, u.T).T"
   ]
  },
  {
   "cell_type": "code",
   "execution_count": 49,
   "metadata": {},
   "outputs": [
    {
     "data": {
      "image/png": "[encoded data removed]",
      "text/plain": [
       "<matplotlib.figure.Figure at 0x7fb76c53ded0>"
      ]
     },
     "metadata": {},
     "output_type": "display_data"
    }
   ],
   "source": [
    "fig = plt.figure()\n",
    "arrow_dir = np.array([[0, 0, v[0][0], v[0][1]], [0, 0, v[1][0], v[1][1]]])\n",
    "X, Y, U, V = zip(*arrow_dir)\n",
    "ax = fig.add_subplot(1, 2, 1)\n",
    "plt.plot(x_values, y_values, '.')\n",
    "ax.quiver(X, Y, U, V, angles='xy', scale_units='xy', scale=1)\n",
    "ax.axis('equal')\n",
    "\n",
    "plt.xlim([-2, 2])\n",
    "plt.ylim([-2, 2])\n",
    "\n",
    "\n",
    "ax = fig.add_subplot(1, 2, 2)\n",
    "ax.axis('equal')\n",
    "plt.plot(trans[:, 0], trans[:, 1], '.')\n",
    "ax.quiver(X, Y, U, V, angles='xy', scale_units='xy', scale=1)\n",
    "\n",
    "\n",
    "plt.xlim([-5, 5])\n",
    "plt.ylim([-5, 5])\n",
    "plt.show()"
   ]
  },
  {
   "cell_type": "markdown",
   "metadata": {},
   "source": [
    "### 8. Singular Value Decomposition (SVD)\n",
    "\n",
    "**SVD** is another way of factorizing a matrix to give **singular values** and **singular vectors**. However, it is more generally applicable than eigendecomposition, e.g. eigendecomposition is not defined for a non-square matrix and we opt for SVD there. Here, we write $A$ as:\n",
    "\n",
    "$$A = UDV^T $$\n",
    "\n",
    "**Shapes**:\n",
    "- $A$: $m$ x $n$\n",
    "- $U$: $m$ x $m$\n",
    "- $D$: $m$ x $n$\n",
    "- $V$: $n$ x $n$\n",
    "\n",
    "**Properties**:\n",
    "- $U$ and $V$ are defined to be orthogonal matrices. \n",
    "- $D$ is a diagonal matrix (not necessarily square), diagonal elements of which are called **singular values**.\n",
    "- The columns of $U$ are known as **left-singular vectors** (eigenvectors of $AA^T$) and those of $V$ are called **right-singular vectors** (eigenvectors of $A^TA$).\n",
    "- Most useful feature is to extend matrix inversion to non-square matrices."
   ]
  },
  {
   "cell_type": "markdown",
   "metadata": {},
   "source": [
    "### 9. The Moore-Penrose Pseudoinverse\n",
    "Suppose we want a left-inverse $B$ of a matrix $A$ ($m$ x $n$)to solve a linear equation:\n",
    "$$ Ax = y ⇒ x = By$$ \n",
    "\n",
    "We define the pseudoinverse of $A$ as:\n",
    "\n",
    "$$A^+ = \\lim\\limits_{\\alpha → 0} (A^TA + \\alpha I)^{-1}A^T$$\n",
    "\n",
    "However, for practical algorithms its defined as:\n",
    "\n",
    "$$ A^+ = VD^+U^T $$\n",
    "\n",
    "where $U$, $D$ and $V$ are the SVD of $A$ and $D^+$ is obtained by taking the reciprocal of all non-zero elements of D and then taking the transpose of the resulting matrix.\n",
    "\n",
    "**Case 1**: m <= n\n",
    "\n",
    "Using $A^+$, gives one of many possible solutions, with the minimal **Euclidean norm**:\n",
    "\n",
    "$$ x = A^{+}y $$\n",
    "\n",
    "**Case 2**: m > n\n",
    "\n",
    "It is possible for there to be no solution and $A^+$ gives the $x$ such that $Ax$ is as close to $y$ in terms of the **Euclidean norm** $||Ax - y||$."
   ]
  },
  {
   "cell_type": "markdown",
   "metadata": {},
   "source": [
    "### 10. The Trace Operator\n",
    "\n",
    "The trace operator gives the sum of all the diagonal elements.\n",
    "\n",
    "$$ Tr(A) = \\sum\\limits_{i}A_{i,i}$$\n",
    "\n",
    "Properties:\n",
    "\n",
    "- $||A||_F = \\sqrt{Tr(AA^T)} $ (**Frobenius Norm**)\n",
    "- $Tr(A) = Tr(A^T)$ (**Transpose Invariance**)\n",
    "- $Tr(ABC) = Tr(CAB) = Tr(BCA)$ (**Cyclical Invariance** given that the individual matrix multiplications are defined)"
   ]
  },
  {
   "cell_type": "markdown",
   "metadata": {},
   "source": [
    "### 11. The Determinant\n",
    "\n",
    "The determinant of a square matrix (denoted by $det(A)$) maps matrices to real scalars. It is equal to the product of all the eigenvalues of the matrix. It denotes how much multiplication by the matrix expands or contracts space. If the value is 0, then space is contracted completely atleast along one dimension causing it to lose all its volume. If the value is 1, then the transformation preserves volume."
   ]
  }
 ],
 "metadata": {
  "kernelspec": {
   "display_name": "Python 2",
   "language": "python",
   "name": "python2"
  },
  "language_info": {
   "codemirror_mode": {
    "name": "ipython",
    "version": 2
   },
   "file_extension": ".py",
   "mimetype": "text/x-python",
   "name": "python",
   "nbconvert_exporter": "python",
   "pygments_lexer": "ipython2",
   "version": "2.7.9"
  }
 },
 "nbformat": 4,
 "nbformat_minor": 2
}
