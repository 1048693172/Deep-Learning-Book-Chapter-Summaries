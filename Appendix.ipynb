{
 "cells": [
  {
   "cell_type": "markdown",
   "metadata": {},
   "source": [
    "# Appendix \n",
    "This is an appendix notebook for explanations that we skipped in the blogs by [Inveterate Learner](https://medium.com/inveterate-learner) either because it would make it too long or was a bit repetitive."
   ]
  },
  {
   "cell_type": "markdown",
   "metadata": {},
   "source": [
    "###  1. Deep Learning Book: Chapter 7 - Regularization for Deep Learning ([Link to post](https://medium.com/inveterate-learner/deep-learning-book-chapter-7-regularization-for-deep-learning-937ff261875c))\n",
    "\n",
    "- Explanation for the weight update of $L^1$ regularization:\n",
    "\n",
    "$$ \\bigtriangledown_w \\tilde{J}(\\theta; X, y) = \\bigtriangledown_w J(\\theta; X, y) + \\alpha * sign(w) $$\n",
    "$$ \\bigtriangledown_w J(\\theta; X, y) = H(w - w^*)$$\n",
    "\n",
    "Now, we'll have to look at each unit and not the entire *w* vector:\n",
    "- Case 1: sign($w_i$*) > 0\n",
    "\n",
    "Equating the gradient to zero, we get:\n",
    "$$ H_{i, i}(w_i - w_i^*) + \\alpha = 0$$\n",
    "$$ \\Rightarrow w_i = w_i^* - \\frac {\\alpha}{H_{i, i}} $$\n",
    "\n",
    "Similarly,\n",
    "- Case 2: sign($w_i$*) > 0\n",
    "$$ \\Rightarrow w_i = w_i^* + \\frac {\\alpha}{H_{i, i}} $$\n",
    "$$ \\Rightarrow w_i = - (-w_i^* -\\frac {\\alpha}{H_{i, i}}) $$\n",
    "\n",
    "Therefore, overall we get the following:\n",
    "\n",
    "$$ w_i = sign(w_i*)(|w_i^*| - \\frac {\\alpha}{H_{i, i}}) $$\n",
    "\n",
    "The explanation for why `max` occurs is given in the post itself."
   ]
  },
  {
   "cell_type": "code",
   "execution_count": null,
   "metadata": {},
   "outputs": [],
   "source": []
  }
 ],
 "metadata": {
  "kernelspec": {
   "display_name": "Python 2",
   "language": "python",
   "name": "python2"
  },
  "language_info": {
   "codemirror_mode": {
    "name": "ipython",
    "version": 2
   },
   "file_extension": ".py",
   "mimetype": "text/x-python",
   "name": "python",
   "nbconvert_exporter": "python",
   "pygments_lexer": "ipython2",
   "version": "2.7.12"
  }
 },
 "nbformat": 4,
 "nbformat_minor": 2
}
